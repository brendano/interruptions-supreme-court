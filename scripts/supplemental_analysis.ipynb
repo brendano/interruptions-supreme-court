{
 "cells": [
  {
   "cell_type": "markdown",
   "id": "4c50c508",
   "metadata": {},
   "source": [
    "# Supplementary and Corraborative analyses"
   ]
  },
  {
   "cell_type": "code",
   "execution_count": 1,
   "id": "589ce56c",
   "metadata": {},
   "outputs": [],
   "source": [
    "import sys, os\n",
    "import glob\n",
    "import json\n",
    "import pprint\n",
    "import pandas as pd \n",
    "pd.options.mode.chained_assignment = None\n",
    "import seaborn as sns\n",
    "import numpy as np \n",
    "from scipy.stats import pearsonr\n",
    "\n",
    "\n",
    "from utils import *\n",
    "from mediation_estimands import * \n",
    "from filter import go_join_filter\n",
    "\n",
    "import matplotlib\n",
    "import matplotlib.pyplot as plt"
   ]
  },
  {
   "cell_type": "code",
   "execution_count": 2,
   "id": "5cb1e124",
   "metadata": {},
   "outputs": [],
   "source": [
    "import os\n",
    "if not os.path.exists('./figs'):\n",
    "    os.makedirs('./figs')"
   ]
  },
  {
   "cell_type": "markdown",
   "id": "41a87457",
   "metadata": {},
   "source": [
    "### Load data "
   ]
  },
  {
   "cell_type": "code",
   "execution_count": 3,
   "id": "e4659a21",
   "metadata": {},
   "outputs": [
    {
     "name": "stdout",
     "output_type": "stream",
     "text": [
      "{'chunk_path': 'data/chunks1.0/',\n",
      " 'end_year': 2020,\n",
      " 'exclude_adv_first_utt': False,\n",
      " 'exclude_backchannel': False,\n",
      " 'final_df_path': 'data/df_final.csv',\n",
      " 'include_fem_issue': False,\n",
      " 'min_num_chunks_per_just': 1000,\n",
      " 'num_bootstrap_samples': 1000,\n",
      " 'prev_utt_path': 'data/prev_utt_1.0/',\n",
      " 'start_year': 1982}\n"
     ]
    }
   ],
   "source": [
    "config = load_config() #Config file with pipeline decisions \n",
    "pprint.pprint(config)"
   ]
  },
  {
   "cell_type": "code",
   "execution_count": 4,
   "id": "02fd8eaf",
   "metadata": {},
   "outputs": [
    {
     "data": {
      "text/plain": [
       "'data/chunks1.0/'"
      ]
     },
     "execution_count": 4,
     "metadata": {},
     "output_type": "execute_result"
    }
   ],
   "source": [
    "config['chunk_path']"
   ]
  },
  {
   "cell_type": "code",
   "execution_count": 5,
   "id": "fdcf52b2",
   "metadata": {},
   "outputs": [
    {
     "name": "stdout",
     "output_type": "stream",
     "text": [
      "num_exclude_adv_first_utt=0\n",
      "num chunks = len(df)= 75025\n"
     ]
    }
   ],
   "source": [
    "df_raw = load_chunks_df(config)"
   ]
  },
  {
   "cell_type": "markdown",
   "id": "016caa84",
   "metadata": {},
   "source": [
    "### Table A1 (Appendix):  Conditional means of interruption, Y given whether the case topic is about gender issues or not (C)"
   ]
  },
  {
   "cell_type": "code",
   "execution_count": 6,
   "id": "5a8644ba",
   "metadata": {},
   "outputs": [
    {
     "name": "stdout",
     "output_type": "stream",
     "text": [
      "original dataset num = 75025\n",
      "dataset w/ {0, 1} ideology mathces num = 68301\n",
      "Number of justices with >1000 chunks 15\n",
      "\t ['Anthony M. Kennedy', 'Antonin Scalia', 'Byron R. White', 'David H. Souter', 'Elena Kagan', 'John G. Roberts Jr.', 'John Paul Stevens', 'Ruth Bader Ginsburg', 'Samuel A. Alito Jr.', \"Sandra Day O'Connor\", 'Sonia Sotomayor', 'Stephen G. Breyer', 'Thurgood Marshall', 'Warren E. Burger', 'William H. Rehnquist']\n",
      "before justice filter, num chunks = 68301\n",
      "after justice filter, num chunks = 65756\n",
      "Saved final df to -> data/df_final.csv\n"
     ]
    }
   ],
   "source": [
    "# Include all data (with or without female issues)\n",
    "config[\"include_fem_issue\"] = True\n",
    "df_fem = go_join_filter(df_raw, config)"
   ]
  },
  {
   "cell_type": "code",
   "execution_count": 7,
   "id": "31c87de1",
   "metadata": {
    "scrolled": true
   },
   "outputs": [
    {
     "name": "stdout",
     "output_type": "stream",
     "text": [
      "original dataset num = 75025\n",
      "dataset w/ {0, 1} ideology mathces num = 68301\n",
      "Number of justices with >1000 chunks 15\n",
      "\t ['Anthony M. Kennedy', 'Antonin Scalia', 'Byron R. White', 'David H. Souter', 'Elena Kagan', 'John G. Roberts Jr.', 'John Paul Stevens', 'Ruth Bader Ginsburg', 'Samuel A. Alito Jr.', \"Sandra Day O'Connor\", 'Sonia Sotomayor', 'Stephen G. Breyer', 'Thurgood Marshall', 'Warren E. Burger', 'William H. Rehnquist']\n",
      "before justice filter, num chunks = 68301\n",
      "after justice filter, num chunks = 65756\n",
      "Exluded female issues, num chunks 64164\n",
      "Saved final df to -> data/df_final.csv\n"
     ]
    }
   ],
   "source": [
    "config[\"include_fem_issue\"] = False\n",
    "df_final = go_join_filter(df_raw, config)"
   ]
  },
  {
   "cell_type": "code",
   "execution_count": 8,
   "id": "56724027",
   "metadata": {},
   "outputs": [],
   "source": [
    "df = df_fem.copy()"
   ]
  },
  {
   "cell_type": "code",
   "execution_count": 9,
   "id": "d2d6ec94",
   "metadata": {},
   "outputs": [
    {
     "name": "stdout",
     "output_type": "stream",
     "text": [
      "E[Y|C = Other issue,T = M] 10.9\n",
      "E[Y|C = Gender issue, T = M] 12.47\n",
      "E[Y|C = Other issue, T = F] 12.35\n",
      "E[Y|C = Gender issue, T = F] 10.82\n"
     ]
    }
   ],
   "source": [
    "e1 = df[(df['advocate_gender']=='M') & (df['female_issue']==0)]['adv_interruption_rate'].mean() \n",
    "print(\"E[Y|C = Other issue,T = M]\", np.round(e1, 2))\n",
    "e2 = df[(df['advocate_gender']=='M') & (df['female_issue']==1)]['adv_interruption_rate'].mean() \n",
    "print(\"E[Y|C = Gender issue, T = M]\", np.round(e2, 2))\n",
    "e3 = df[(df['advocate_gender']=='F') & (df['female_issue']==0)]['adv_interruption_rate'].mean() \n",
    "print(\"E[Y|C = Other issue, T = F]\", np.round(e3, 2))\n",
    "e4 = df[(df['advocate_gender']=='F') & (df['female_issue']==1)]['adv_interruption_rate'].mean() \n",
    "print(\"E[Y|C = Gender issue, T = F]\", np.round(e4, 2))"
   ]
  },
  {
   "cell_type": "markdown",
   "id": "197cfe5f",
   "metadata": {},
   "source": [
    "### Figure A1: Heatedness "
   ]
  },
  {
   "cell_type": "code",
   "execution_count": 10,
   "id": "8493adab",
   "metadata": {},
   "outputs": [
    {
     "name": "stdout",
     "output_type": "stream",
     "text": [
      "Loaded final df from  data/df_final.csv\n",
      "Number of rows= 64164\n"
     ]
    }
   ],
   "source": [
    "df = load_final_df(config) # Dataframe after filtering to filters in config.yaml \n",
    "                           # (e.g., filtering to justices with the min num chunks) "
   ]
  },
  {
   "cell_type": "code",
   "execution_count": 11,
   "id": "28655c02",
   "metadata": {},
   "outputs": [
    {
     "data": {
      "image/png": "[encoded data removed]",
      "text/plain": [
       "<Figure size 864x648 with 4 Axes>"
      ]
     },
     "metadata": {
      "needs_background": "light"
     },
     "output_type": "display_data"
    }
   ],
   "source": [
    "sns.set()\n",
    "rows=2\n",
    "cols=2\n",
    "fig, axes = plt.subplots(rows, cols, figsize=(12,9))\n",
    "\n",
    "df_f_f = df[(df.advocate_gender=='F') & (df.justice_gender=='F')]\n",
    "df_f_f = df_f_f[['adv_interruption_rate', 'justice_interruption_rate']]\n",
    "\n",
    "df_f_f = df_f_f[(df_f_f.adv_interruption_rate!=0) & (df_f_f.justice_interruption_rate!=0)]\n",
    "df_f_f['adv_interruption_rate'] = df_f_f.apply(lambda x: np.log(x['adv_interruption_rate']), axis=1)\n",
    "df_f_f['justice_interruption_rate'] = df_f_f.apply(lambda x: np.log(x['justice_interruption_rate']), axis=1)\n",
    "\n",
    "corr, _ = pearsonr(df_f_f.adv_interruption_rate, df_f_f.justice_interruption_rate)\n",
    "corr = np.round(corr, 2)\n",
    "#print('f-f', corr)\n",
    "axes[0][0].scatter(df_f_f.adv_interruption_rate, df_f_f.justice_interruption_rate, s=2)\n",
    "axes[0][0].set_title('female advocate, female justice', fontsize=12)\n",
    "axes[0][0].axes.text(0.8,0.9, r'$\\rho$='+str(corr), horizontalalignment='left',\\\n",
    "                                 verticalalignment='center', transform=axes[0][0].transAxes,\\\n",
    "                                 fontsize=12)\n",
    "\n",
    "\n",
    "df_f_f = df[(df.advocate_gender=='F') & (df.justice_gender=='M')]\n",
    "df_f_f = df_f_f[['adv_interruption_rate', 'justice_interruption_rate']]\n",
    "\n",
    "df_f_f = df_f_f[(df_f_f.adv_interruption_rate!=0) & (df_f_f.justice_interruption_rate!=0)]\n",
    "df_f_f['adv_interruption_rate'] = df_f_f.apply(lambda x: np.log(x['adv_interruption_rate']), axis=1)\n",
    "df_f_f['justice_interruption_rate'] = df_f_f.apply(lambda x: np.log(x['justice_interruption_rate']), axis=1)\n",
    "\n",
    "corr, _ = pearsonr(df_f_f.adv_interruption_rate, df_f_f.justice_interruption_rate)\n",
    "corr = np.round(corr, 2)\n",
    "#print('f-m', corr)\n",
    "axes[0][1].scatter(df_f_f.adv_interruption_rate, df_f_f.justice_interruption_rate, s=2)\n",
    "axes[0][1].set_title('female advocate, male justice', fontsize=12)\n",
    "axes[0][1].axes.text(2,0.9, r'$\\rho$='+str(corr), horizontalalignment='left',\\\n",
    "                                 verticalalignment='center', transform=axes[0][0].transAxes,\\\n",
    "                                 fontsize=12)\n",
    "\n",
    "\n",
    "df_f_f = df[(df.advocate_gender=='M') & (df.justice_gender=='F')]\n",
    "df_f_f = df_f_f[['adv_interruption_rate', 'justice_interruption_rate']]\n",
    "\n",
    "df_f_f = df_f_f[(df_f_f.adv_interruption_rate!=0) & (df_f_f.justice_interruption_rate!=0)]\n",
    "df_f_f['adv_interruption_rate'] = df_f_f.apply(lambda x: np.log(x['adv_interruption_rate']), axis=1)\n",
    "df_f_f['justice_interruption_rate'] = df_f_f.apply(lambda x: np.log(x['justice_interruption_rate']), axis=1)\n",
    "\n",
    "corr, _ = pearsonr(df_f_f.adv_interruption_rate, df_f_f.justice_interruption_rate)\n",
    "corr = np.round(corr, 2)\n",
    "#print('m-f', corr)\n",
    "axes[1][0].scatter(df_f_f.adv_interruption_rate, df_f_f.justice_interruption_rate, s=2)\n",
    "axes[1][0].set_title('male advocate, female justice', fontsize=12)\n",
    "axes[1][0].axes.text(0.8,-0.3, r'$\\rho$='+str(corr), horizontalalignment='left',\\\n",
    "                                 verticalalignment='center', transform=axes[0][0].transAxes,\\\n",
    "                                 fontsize=12)\n",
    "\n",
    "\n",
    "df_f_f = df[(df.advocate_gender=='M') & (df.justice_gender=='M')]\n",
    "df_f_f = df_f_f[['adv_interruption_rate', 'justice_interruption_rate']]\n",
    "\n",
    "df_f_f = df_f_f[(df_f_f.adv_interruption_rate!=0) & (df_f_f.justice_interruption_rate!=0)]\n",
    "df_f_f['adv_interruption_rate'] = df_f_f.apply(lambda x: np.log(x['adv_interruption_rate']), axis=1)\n",
    "df_f_f['justice_interruption_rate'] = df_f_f.apply(lambda x: np.log(x['justice_interruption_rate']), axis=1)\n",
    "\n",
    "corr, _ = pearsonr(df_f_f.adv_interruption_rate, df_f_f.justice_interruption_rate)\n",
    "corr = np.round(corr, 2)\n",
    "#print('m-m', corr)\n",
    "axes[1][1].scatter(df_f_f.adv_interruption_rate, df_f_f.justice_interruption_rate, s=2)\n",
    "axes[1][1].set_title('male advocate, male justice', fontsize=12)\n",
    "axes[1][1].axes.text(2,-0.3, r'$\\rho$='+str(corr), horizontalalignment='left',\\\n",
    "                                 verticalalignment='center', transform=axes[0][0].transAxes,\\\n",
    "                                 fontsize=12)\n",
    "\n",
    "        \n",
    "fig.text(0.5, 0.03, 'advocate interruption rate (log scale)', ha='center', fontsize=12)\n",
    "fig.text(0.05, 0.5, 'justice interruption rate (log scale)', va='center', rotation='vertical', fontsize=12)\n",
    "\n",
    "plt.savefig(\"figs/figA1-heatedness.pdf\")\n",
    "\n",
    "plt.show()"
   ]
  },
  {
   "cell_type": "markdown",
   "id": "e4e388c0",
   "metadata": {},
   "source": [
    "### Table 4: Corroborative mediation analyses\n",
    "\n",
    "We only use 2007 onwards in the data because speech disfluencies were not recorded consistently. \n",
    "\n",
    "Our mediators are: \n",
    "- Speech disfluencies as mediator\n",
    "- deological alignment as mediator\n",
    "- Advocate experience as mediator \n",
    "\n",
    "and we calculate the natural direct effect (NDE) and natural indirect effect (NIE) from treatment (gender of the advocate) to outcome (token-normalized interruption rate). "
   ]
  },
  {
   "cell_type": "code",
   "execution_count": 12,
   "id": "07a2d95a",
   "metadata": {},
   "outputs": [],
   "source": [
    "df_subset = df[df['case_year'] >= 2007]"
   ]
  },
  {
   "cell_type": "code",
   "execution_count": 13,
   "id": "4bdc2d1a",
   "metadata": {},
   "outputs": [
    {
     "data": {
      "text/plain": [
       "(17801, 10)"
      ]
     },
     "execution_count": 13,
     "metadata": {},
     "output_type": "execute_result"
    }
   ],
   "source": [
    "len(df_subset), len(set(df_subset.justice_name))"
   ]
  },
  {
   "cell_type": "markdown",
   "id": "6e3cdf29",
   "metadata": {},
   "source": [
    "## Corroborative analyses"
   ]
  },
  {
   "cell_type": "markdown",
   "id": "d99a9cd0",
   "metadata": {},
   "source": [
    "### Background on estimand analysis with mediation"
   ]
  },
  {
   "cell_type": "markdown",
   "id": "227fd2bb",
   "metadata": {},
   "source": [
    "#### Analysis \n",
    "\n",
    "All of these are all conditional on the chunks that the justice is speaking in \n",
    "\n",
    " Total effect \n",
    "\n",
    "$$ TE = E [Y|T=1] - E[Y|T=0] $$\n",
    "\n",
    "Pearl, Causal Inference in Statastics\n",
    "\n",
    "Eqns. 4.50 and 4.52\n",
    "\n",
    "$$ NDE = \\sum_m [E[Y|T=1, M=m] - E[Y|T=0, M=m]]\\cdot P(M=m|T=0)$$\n",
    "\n",
    "$$ NIE = \\sum_m [E[Y|T=0, M=m]] \\cdot [P(M=m|T=1)- P(M=m|T=0)]$$\n",
    "\n",
    "where \n",
    "\n",
    "$$ P(M=m|T=0) = \\frac{\\text{count\\_chunks}(M=m \\cap T=0)}{\\text{count\\_chunks}(T=0)} $$\n",
    "\n",
    "These will be per-justice values. The expected values are over all valid chunks for that justice. \n",
    "\n",
    "Our variables:  \n",
    "- $M$ (mediators) = Either (a) speech disfluency tertiles (3 values) or (b) advocate-justice ideology match (2 values)\n",
    "- $T$ (treatment) = $T=1$ if advocate female, $T=0$ if male\n",
    "- $Y$ (outcome) = interruption rate (# utts justice interrupts advocate/ # utts in a chunk)"
   ]
  },
  {
   "cell_type": "code",
   "execution_count": 14,
   "id": "971d5fba",
   "metadata": {},
   "outputs": [],
   "source": [
    "def get_estimands(df_input, mediator_colm_name, treatment_colm_name, outcome_colm_name,\\\n",
    "                  num_bootstraps, justice_gender_map): \n",
    "    \n",
    "    justices = list(set(df_input['justice_name']))\n",
    "    \n",
    "    #ideology per justice\n",
    "    ideology_map = {}\n",
    "    for just in justices: \n",
    "        #print(just)\n",
    "        ideology_map[just] = df_input[df_input.justice_name==just]['justice_ideology'].iloc[0]\n",
    "        \n",
    "\n",
    "    #get estimands through mediated paths \n",
    "    df_mediated_effects = []\n",
    "    df_mediated_effects_male = []\n",
    "    df_mediated_effects_female = []\n",
    "    \n",
    "    bootsraps_for_mediated_effects = {}\n",
    "    for just in justices: \n",
    "        df_just = make_df_justice_general(just, df_input,\\\n",
    "                                        mediator_colm_name = mediator_colm_name,\\\n",
    "                                        treatment_colm_name = treatment_colm_name,\\\n",
    "                                        outcome_colm_name = outcome_colm_name)\n",
    "        \n",
    "\n",
    "        T_hat = pearls_mediation(df_just, just)\n",
    "\n",
    "        # get bootstrap std\n",
    "        bootstraps = []\n",
    "        for bs in range(num_bootstraps):\n",
    "            df_just_bs = df_just.sample(frac=1, replace=True)\n",
    "            out_bs = pearls_mediation(df_just_bs, just)\n",
    "            bootstraps.append(out_bs)\n",
    "\n",
    "        for m in ['nde', 'nie']:\n",
    "            std = get_std(bootstraps, T_hat, m)\n",
    "            T_hat['std_'+m] = std\n",
    "\n",
    "        T_hat[\"num_chunks\"] = len(df_input[df_input.justice_name==just]) \n",
    "        df_mediated_effects.append(T_hat)\n",
    "        \n",
    "        if justice_gender_map[just]=='M':\n",
    "            df_mediated_effects_male.append(T_hat)\n",
    "        if justice_gender_map[just]=='F':\n",
    "            df_mediated_effects_female.append(T_hat)\n",
    "        bootsraps_for_mediated_effects[just] = bootstraps\n",
    "        \n",
    "    df_mediated_effects = pd.DataFrame(df_mediated_effects)\n",
    "    df_mediated_effects_male = pd.DataFrame(df_mediated_effects_male)\n",
    "    df_mediated_effects_female = pd.DataFrame(df_mediated_effects_female)\n",
    "    \n",
    "    ###### NDE ######\n",
    "    \n",
    "    #average nde over all justices\n",
    "    bootsraps_for_mean_mediated_effect = []\n",
    "    for boot in range(num_bootstraps):\n",
    "        mediated_effects_over_just = []\n",
    "        for just, effects in bootsraps_for_mediated_effects.items():\n",
    "            mediated_effects_over_just.append(effects[boot]['nde'])\n",
    "        bootsraps_for_mean_mediated_effect.append(pd.DataFrame(mediated_effects_over_just, columns=['nde']))\n",
    "\n",
    "    avg_just_nde_hat = {'nde': df_mediated_effects['nde'].mean()} \n",
    "    avg_just_nde_hat['std_'+'nde'] = get_std(bootsraps_for_mean_mediated_effect, avg_just_nde_hat, 'nde')\n",
    "    \n",
    "    #average nde over male justices\n",
    "    bootsraps_for_mean_mediated_effect_male = []\n",
    "    for boot in range(num_bootstraps):\n",
    "        mediated_effects_over_just_male = []\n",
    "        for just, effects in bootsraps_for_mediated_effects.items():\n",
    "            if justice_gender_map[just]=='M':\n",
    "                mediated_effects_over_just_male.append(effects[boot]['nde'])\n",
    "        bootsraps_for_mean_mediated_effect_male.append(pd.DataFrame(mediated_effects_over_just_male,\\\n",
    "                                                                    columns=['nde']))\n",
    "\n",
    "    avg_just_male_nde_hat = {'nde': df_mediated_effects_male['nde'].mean()} \n",
    "    avg_just_male_nde_hat['std_'+'nde'] = std = get_std(bootsraps_for_mean_mediated_effect_male,\\\n",
    "                                                        avg_just_male_nde_hat,'nde')\n",
    "    \n",
    "    #average nde over female justices\n",
    "    bootsraps_for_mean_mediated_effect_female = []\n",
    "    for boot in range(num_bootstraps):\n",
    "        mediated_effects_over_just_female = []\n",
    "        for just, effects in bootsraps_for_mediated_effects.items():\n",
    "            if justice_gender_map[just]=='F':\n",
    "                mediated_effects_over_just_female.append(effects[boot]['nde'])\n",
    "        bootsraps_for_mean_mediated_effect_female.append(\\\n",
    "                                pd.DataFrame(mediated_effects_over_just_female,\\\n",
    "                                             columns=['nde']))\n",
    "\n",
    "    avg_just_female_nde_hat = {'nde': df_mediated_effects_female['nde'].mean()} \n",
    "    avg_just_female_nde_hat['std_'+'nde'] = get_std(bootsraps_for_mean_mediated_effect_female,\\\n",
    "                                                    avg_just_female_nde_hat, 'nde')\n",
    "    \n",
    "    \n",
    "    ###### NIE ######\n",
    "        \n",
    "    #average nie over all justices\n",
    "    bootsraps_for_mean_mediated_effect = []\n",
    "    for boot in range(num_bootstraps):\n",
    "        mediated_effects_over_just = []\n",
    "        for just, effects in bootsraps_for_mediated_effects.items():\n",
    "            mediated_effects_over_just.append(effects[boot]['nie'])\n",
    "        bootsraps_for_mean_mediated_effect.append(pd.DataFrame(mediated_effects_over_just, columns=['nie']))\n",
    "    \n",
    "    avg_just_nie_hat = {'nie': df_mediated_effects['nie'].mean()} \n",
    "    avg_just_nie_hat['std_'+'nie'] = get_std(bootsraps_for_mean_mediated_effect, avg_just_nie_hat, 'nie')\n",
    "    \n",
    "    #average nie over male justices\n",
    "    bootsraps_for_mean_mediated_effect_male = []\n",
    "    for boot in range(num_bootstraps):\n",
    "        mediated_effects_over_just_male = []\n",
    "        for just, effects in bootsraps_for_mediated_effects.items():\n",
    "            if justice_gender_map[just]=='M':\n",
    "                mediated_effects_over_just_male.append(effects[boot]['nie'])\n",
    "        bootsraps_for_mean_mediated_effect_male.append(pd.DataFrame(\\\n",
    "                                mediated_effects_over_just_male, columns=['nie']))\n",
    "    avg_just_male_nie_hat = {'nie': df_mediated_effects_male['nie'].mean()} \n",
    "    avg_just_male_nie_hat['std_'+'nie'] = get_std(bootsraps_for_mean_mediated_effect_male,\\\n",
    "                                                  avg_just_male_nie_hat, 'nie')\n",
    "    \n",
    "    \n",
    "    #average nie over female justices\n",
    "    bootsraps_for_mean_mediated_effect_female = []\n",
    "    for boot in range(num_bootstraps):\n",
    "        mediated_effects_over_just_female = []\n",
    "        \n",
    "        for just, effects in bootsraps_for_mediated_effects.items():\n",
    "            if justice_gender_map[just]=='F':\n",
    "                mediated_effects_over_just_female.append(effects[boot]['nie'])\n",
    "                \n",
    "        bootsraps_for_mean_mediated_effect_female.append(pd.DataFrame(mediated_effects_over_just_female,\\\n",
    "                                                         columns=['nie']))\n",
    "    avg_just_female_nie_hat = {'nie': df_mediated_effects_female['nie'].mean()} \n",
    "    avg_just_female_nie_hat['std_'+'nie'] = get_std(bootsraps_for_mean_mediated_effect_female,\\\n",
    "                                                    avg_just_female_nie_hat, 'nie')\n",
    "\n",
    "\n",
    "    return {'mediator_colm_name': mediator_colm_name,  \n",
    "            'mediated': df_mediated_effects, \n",
    "            'avg_direct_effect_over_justices':avg_just_nde_hat,\n",
    "            'avg_direct_effect_over_male_justices':avg_just_male_nde_hat,\n",
    "            'avg_direct_effect_over_female_justices':avg_just_female_nde_hat,\n",
    "            'avg_indirect_effect_over_justices':avg_just_nie_hat,\n",
    "            'avg_indirect_effect_over_male_justices':avg_just_male_nie_hat,\n",
    "            'avg_indirect_effect_over_female_justices':avg_just_female_nie_hat,\n",
    "            'ideology_map': ideology_map}"
   ]
  },
  {
   "cell_type": "code",
   "execution_count": 15,
   "id": "a9ea6a7c",
   "metadata": {},
   "outputs": [],
   "source": [
    "def get_std(bootstraps, T_hat, metric):\n",
    "    #Using 6.16 Theorem (Normal-based Confidence Interval; 95%) in Wasserman 2004 \n",
    "    bootstrap_distribution = []\n",
    "    for b in bootstraps:\n",
    "        bootstrap_distribution.append(b[metric].mean())\n",
    "    \n",
    "    std_error = np.std(bootstrap_distribution)   \n",
    "    return std_error"
   ]
  },
  {
   "cell_type": "code",
   "execution_count": 48,
   "id": "ef261125",
   "metadata": {},
   "outputs": [],
   "source": [
    "with open(\"../raw_data/justice2gender.json\", \"r\") as f: \n",
    "    justice_gender_map = json.load(f)"
   ]
  },
  {
   "cell_type": "markdown",
   "id": "e36cfe71",
   "metadata": {},
   "source": [
    "### Load data"
   ]
  },
  {
   "cell_type": "code",
   "execution_count": 44,
   "id": "8eb2fb92",
   "metadata": {},
   "outputs": [
    {
     "name": "stdout",
     "output_type": "stream",
     "text": [
      "Loaded final df from  data/df_final.csv\n",
      "Number of rows= 64164\n",
      "----Number of chunks----\n",
      "Justices:All 17801\n",
      "Justices:Female 5980\n",
      "Justices:Male 11821\n"
     ]
    }
   ],
   "source": [
    "df = load_final_df(config) # Dataframe after filtering to filters in config.yaml \n",
    "                           # (e.g., filtering to justices with the min num chunks) \n",
    "    \n",
    "df_subset = df[df['case_year'] >= 2007]\n",
    "\n",
    "print(\"----Number of chunks----\")\n",
    "print('Justices:All', len(df_subset))\n",
    "print('Justices:Female', len(df_subset[df_subset.justice_gender=='F']))\n",
    "print('Justices:Male', len(df_subset[df_subset.justice_gender=='M']))"
   ]
  },
  {
   "cell_type": "markdown",
   "id": "6f3e0858",
   "metadata": {},
   "source": [
    "### Mediation by speech disfluencies"
   ]
  },
  {
   "cell_type": "code",
   "execution_count": 17,
   "id": "954ebfab",
   "metadata": {},
   "outputs": [
    {
     "name": "stdout",
     "output_type": "stream",
     "text": [
      "disfluency rate (first quantile):  14.77832512315271\n",
      "disfluency rate (second quantile):  29.41176470588235\n"
     ]
    }
   ],
   "source": [
    "### get speech disfluencies variable\n",
    "\n",
    "df_subset['adv_disfl_rate'] = 1000*df_subset['num_adv_disfl']/df_subset['num_toks_adv']\n",
    "adv_disfl_rate = df_subset['adv_disfl_rate'].to_numpy()\n",
    "\n",
    "# discretizing disfluency rates\n",
    "# let's just go with the third quantiles (tertiles) for now \n",
    "t1 = np.quantile(adv_disfl_rate, 1/3)\n",
    "t2 = np.quantile(adv_disfl_rate, 2/3)\n",
    "print('disfluency rate (first quantile): ', t1)\n",
    "print('disfluency rate (second quantile): ', t2)\n",
    "\n",
    "\n",
    "# add discretized version to the data frame \n",
    "adv_disfl_rate_tertiles = []\n",
    "for x in adv_disfl_rate: \n",
    "    if 0 <= x < t1: \n",
    "        adv_disfl_rate_tertiles.append(0)\n",
    "    elif t1 <= x < t2: \n",
    "        adv_disfl_rate_tertiles.append(1)\n",
    "    elif t2 <= x: \n",
    "        adv_disfl_rate_tertiles.append(2)\n",
    "assert len(adv_disfl_rate_tertiles) == len(adv_disfl_rate) == len(df_subset)\n",
    "df_subset['adv_disfl_rate_tertiles'] = np.array(adv_disfl_rate_tertiles).astype(int)"
   ]
  },
  {
   "cell_type": "code",
   "execution_count": 18,
   "id": "2d38b5a5",
   "metadata": {},
   "outputs": [],
   "source": [
    "mediator_colm_name = 'adv_disfl_rate_tertiles'\n",
    "treatment_colm_name = 'advocate_gender'\n",
    "outcome_colm_name = 'adv_interruption_rate'\n",
    "out_sd = get_estimands(df_subset, mediator_colm_name, treatment_colm_name, outcome_colm_name,\\\n",
    "                             config['num_bootstrap_samples'], justice_gender_map)"
   ]
  },
  {
   "cell_type": "markdown",
   "id": "b450adc6",
   "metadata": {},
   "source": [
    "### Mediation by ideological alignment"
   ]
  },
  {
   "cell_type": "code",
   "execution_count": 19,
   "id": "2fefca98",
   "metadata": {},
   "outputs": [],
   "source": [
    "mediator_colm_name = 'ideology_matches'\n",
    "treatment_colm_name = 'advocate_gender'\n",
    "outcome_colm_name = 'adv_interruption_rate'\n",
    "out_ia = get_estimands(df_subset, mediator_colm_name, treatment_colm_name, outcome_colm_name,\\\n",
    "                             config['num_bootstrap_samples'], justice_gender_map)"
   ]
  },
  {
   "cell_type": "markdown",
   "id": "733cf37e",
   "metadata": {},
   "source": [
    "### Mediation by advocate experience"
   ]
  },
  {
   "cell_type": "code",
   "execution_count": 20,
   "id": "5ee026d4",
   "metadata": {},
   "outputs": [],
   "source": [
    "mediator_colm_name = 'adv_experience_bin'\n",
    "treatment_colm_name = 'advocate_gender'\n",
    "outcome_colm_name = 'adv_interruption_rate'\n",
    "out_exp = get_estimands(df_subset, mediator_colm_name, treatment_colm_name, outcome_colm_name,\\\n",
    "                             config['num_bootstrap_samples'], justice_gender_map)"
   ]
  },
  {
   "cell_type": "markdown",
   "id": "5689a4a1",
   "metadata": {},
   "source": [
    "### Print results for Table 4"
   ]
  },
  {
   "cell_type": "code",
   "execution_count": 23,
   "id": "c22351b3",
   "metadata": {},
   "outputs": [
    {
     "name": "stdout",
     "output_type": "stream",
     "text": [
      "Justices:All\n",
      "----NDE----\n",
      "Mediator:Speech Disfluencies 0.73 +- 0.6\n",
      "Mediator:Ideological Alignment 0.83 +- 0.69\n",
      "Mediator:Advocate Experience 0.68 +- 0.7\n",
      "----NIE----\n",
      "Mediator:Speech Disfluencies 0.07 +- 0.29\n",
      "Mediator:Ideological Alignment 0.04 +- 0.05\n",
      "Mediator:Advocate Experience -0.03 +- 0.08\n"
     ]
    }
   ],
   "source": [
    "print('Justices:All')\n",
    "print(\"----NDE----\")\n",
    "e1 = out_sd[\"avg_direct_effect_over_justices\"]['nde']\n",
    "e1_std = out_sd[\"avg_direct_effect_over_justices\"]['std_nde']\n",
    "e1_ci = e1_std*1.96\n",
    "print(\"Mediator:Speech Disfluencies\", np.round(e1, 2), \"+-\", np.round(e1_ci, 2))\n",
    "\n",
    "e1 = out_ia[\"avg_direct_effect_over_justices\"]['nde']\n",
    "e1_std = out_ia[\"avg_direct_effect_over_justices\"]['std_nde']\n",
    "e1_ci = e1_std*1.96\n",
    "print(\"Mediator:Ideological Alignment\", np.round(e1, 2), \"+-\", np.round(e1_ci, 2))\n",
    "\n",
    "e1 = out_exp[\"avg_direct_effect_over_justices\"]['nde']\n",
    "e1_std = out_exp[\"avg_direct_effect_over_justices\"]['std_nde']\n",
    "e1_ci = e1_std*1.96\n",
    "print(\"Mediator:Advocate Experience\", np.round(e1, 2), \"+-\", np.round(e1_ci, 2))\n",
    "\n",
    "\n",
    "print(\"----NIE----\")\n",
    "e1 = out_sd[\"avg_indirect_effect_over_justices\"]['nie']\n",
    "e1_std = out_sd[\"avg_indirect_effect_over_justices\"]['std_nie']\n",
    "e1_ci = e1_std*1.96\n",
    "print(\"Mediator:Speech Disfluencies\", np.round(e1, 2), \"+-\", np.round(e1_ci, 2))\n",
    "\n",
    "e1 = out_ia[\"avg_indirect_effect_over_justices\"]['nie']\n",
    "e1_std = out_ia[\"avg_indirect_effect_over_justices\"]['std_nie']\n",
    "e1_ci = e1_std*1.96\n",
    "print(\"Mediator:Ideological Alignment\", np.round(e1, 2), \"+-\", np.round(e1_ci, 2))\n",
    "\n",
    "e1 = out_exp[\"avg_indirect_effect_over_justices\"]['nie']\n",
    "e1_std = out_exp[\"avg_indirect_effect_over_justices\"]['std_nie']\n",
    "e1_ci = e1_std*1.96\n",
    "print(\"Mediator:Advocate Experience\", np.round(e1, 2), \"+-\", np.round(e1_ci, 2))"
   ]
  },
  {
   "cell_type": "code",
   "execution_count": 24,
   "id": "af324caa",
   "metadata": {},
   "outputs": [
    {
     "name": "stdout",
     "output_type": "stream",
     "text": [
      "Justices:Male\n",
      "----NDE----\n",
      "Mediator:Speech Disfluencies 1.2 +- 0.78\n",
      "Mediator:Ideological Alignment 1.36 +- 0.92\n",
      "Mediator:Advocate Experience 1.18 +- 0.91\n",
      "----NIE----\n",
      "Mediator:Speech Disfluencies 0.12 +- 0.41\n",
      "Mediator:Ideological Alignment 0.06 +- 0.08\n",
      "Mediator:Advocate Experience 0.0 +- 0.11\n"
     ]
    }
   ],
   "source": [
    "print('Justices:Male')\n",
    "print(\"----NDE----\")\n",
    "e1 = out_sd[\"avg_direct_effect_over_male_justices\"]['nde']\n",
    "e1_std = out_sd[\"avg_direct_effect_over_male_justices\"]['std_nde']\n",
    "e1_ci = e1_std*1.96\n",
    "print(\"Mediator:Speech Disfluencies\", np.round(e1, 2), \"+-\", np.round(e1_ci, 2))\n",
    "\n",
    "e1 = out_ia[\"avg_direct_effect_over_male_justices\"]['nde']\n",
    "e1_std = out_ia[\"avg_direct_effect_over_male_justices\"]['std_nde']\n",
    "e1_ci = e1_std*1.96\n",
    "print(\"Mediator:Ideological Alignment\", np.round(e1, 2), \"+-\", np.round(e1_ci, 2))\n",
    "\n",
    "e1 = out_exp[\"avg_direct_effect_over_male_justices\"]['nde']\n",
    "e1_std = out_exp[\"avg_direct_effect_over_male_justices\"]['std_nde']\n",
    "e1_ci = e1_std*1.96\n",
    "print(\"Mediator:Advocate Experience\", np.round(e1, 2), \"+-\", np.round(e1_ci, 2))\n",
    "\n",
    "\n",
    "print(\"----NIE----\")\n",
    "e1 = out_sd[\"avg_indirect_effect_over_male_justices\"]['nie']\n",
    "e1_std = out_sd[\"avg_indirect_effect_over_male_justices\"]['std_nie']\n",
    "e1_ci = e1_std*1.96\n",
    "print(\"Mediator:Speech Disfluencies\", np.round(e1, 2), \"+-\", np.round(e1_ci, 2))\n",
    "\n",
    "e1 = out_ia[\"avg_indirect_effect_over_male_justices\"]['nie']\n",
    "e1_std = out_ia[\"avg_indirect_effect_over_male_justices\"]['std_nie']\n",
    "e1_ci = e1_std*1.96\n",
    "print(\"Mediator:Ideological Alignment\", np.round(e1, 2), \"+-\", np.round(e1_ci, 2))\n",
    "\n",
    "e1 = out_exp[\"avg_indirect_effect_over_male_justices\"]['nie']\n",
    "e1_std = out_exp[\"avg_indirect_effect_over_male_justices\"]['std_nie']\n",
    "e1_ci = e1_std*1.96\n",
    "print(\"Mediator:Advocate Experience\", np.round(e1, 2), \"+-\", np.round(e1_ci, 2))"
   ]
  },
  {
   "cell_type": "code",
   "execution_count": 26,
   "id": "339ee56d",
   "metadata": {},
   "outputs": [
    {
     "name": "stdout",
     "output_type": "stream",
     "text": [
      "Justices:Female\n",
      "----NDE----\n",
      "Mediator:Speech Disfluencies -0.38 +- 0.84\n",
      "Mediator:Ideological Alignment -0.38 +- 0.87\n",
      "Mediator:Advocate Experience -0.48 +- 0.86\n",
      "----NIE----\n",
      "Mediator:Speech Disfluencies -0.03 +- 0.26\n",
      "Mediator:Ideological Alignment -0.01 +- 0.04\n",
      "Mediator:Advocate Experience -0.1 +- 0.1\n"
     ]
    }
   ],
   "source": [
    "print('Justices:Female')\n",
    "print(\"----NDE----\")\n",
    "e1 = out_sd[\"avg_direct_effect_over_female_justices\"]['nde']\n",
    "e1_std = out_sd[\"avg_direct_effect_over_female_justices\"]['std_nde']\n",
    "e1_ci = e1_std*1.96\n",
    "print(\"Mediator:Speech Disfluencies\", np.round(e1, 2), \"+-\", np.round(e1_ci, 2))\n",
    "\n",
    "e1 = out_ia[\"avg_direct_effect_over_female_justices\"]['nde']\n",
    "e1_std = out_ia[\"avg_direct_effect_over_female_justices\"]['std_nde']\n",
    "e1_ci = e1_std*1.96\n",
    "print(\"Mediator:Ideological Alignment\", np.round(e1, 2), \"+-\", np.round(e1_ci, 2))\n",
    "\n",
    "e1 = out_exp[\"avg_direct_effect_over_female_justices\"]['nde']\n",
    "e1_std = out_exp[\"avg_direct_effect_over_female_justices\"]['std_nde']\n",
    "e1_ci = e1_std*1.96\n",
    "print(\"Mediator:Advocate Experience\", np.round(e1, 2), \"+-\", np.round(e1_ci, 2))\n",
    "\n",
    "\n",
    "print(\"----NIE----\")\n",
    "e1 = out_sd[\"avg_indirect_effect_over_female_justices\"]['nie']\n",
    "e1_std = out_sd[\"avg_indirect_effect_over_female_justices\"]['std_nie']\n",
    "e1_ci = e1_std*1.96\n",
    "print(\"Mediator:Speech Disfluencies\", np.round(e1, 2), \"+-\", np.round(e1_ci, 2))\n",
    "\n",
    "e1 = out_ia[\"avg_indirect_effect_over_female_justices\"]['nie']\n",
    "e1_std = out_ia[\"avg_indirect_effect_over_female_justices\"]['std_nie']\n",
    "e1_ci = e1_std*1.96\n",
    "print(\"Mediator:Ideological Alignment\", np.round(e1, 2), \"+-\", np.round(e1_ci, 2))\n",
    "\n",
    "e1 = out_exp[\"avg_indirect_effect_over_female_justices\"]['nie']\n",
    "e1_std = out_exp[\"avg_indirect_effect_over_female_justices\"]['std_nie']\n",
    "e1_ci = e1_std*1.96\n",
    "print(\"Mediator:Advocate Experience\", np.round(e1, 2), \"+-\", np.round(e1_ci, 2))"
   ]
  },
  {
   "cell_type": "code",
   "execution_count": null,
   "id": "457f7dea",
   "metadata": {},
   "outputs": [],
   "source": []
  }
 ],
 "metadata": {
  "kernelspec": {
   "display_name": "Python 3 (ipykernel)",
   "language": "python",
   "name": "python3"
  },
  "language_info": {
   "codemirror_mode": {
    "name": "ipython",
    "version": 3
   },
   "file_extension": ".py",
   "mimetype": "text/x-python",
   "name": "python",
   "nbconvert_exporter": "python",
   "pygments_lexer": "ipython3",
   "version": "3.9.0"
  }
 },
 "nbformat": 4,
 "nbformat_minor": 5
}
